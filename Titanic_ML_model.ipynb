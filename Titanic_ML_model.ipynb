{
  "nbformat": 4,
  "nbformat_minor": 0,
  "metadata": {
    "colab": {
      "name": "Titanic_ML_model.ipynb",
      "version": "0.3.2",
      "provenance": [],
      "private_outputs": true,
      "collapsed_sections": [
        "iIHX_D0GPTOz",
        "B2CikIpHECJG",
        "r9Bu9pMli77H"
      ],
      "toc_visible": true,
      "include_colab_link": true
    },
    "kernelspec": {
      "name": "python3",
      "display_name": "Python 3"
    },
    "accelerator": "GPU"
  },
  "cells": [
    {
      "cell_type": "markdown",
      "metadata": {
        "id": "view-in-github",
        "colab_type": "text"
      },
      "source": [
        "<a href=\"https://colab.research.google.com/github/mateuszklinowski/TitanicKaggleCompetition/blob/develop/Titanic_ML_model.ipynb\" target=\"_parent\"><img src=\"https://colab.research.google.com/assets/colab-badge.svg\" alt=\"Open In Colab\"/></a>"
      ]
    },
    {
      "cell_type": "markdown",
      "metadata": {
        "id": "N2A8irv-86RI",
        "colab_type": "text"
      },
      "source": [
        "# Titanic: Machine Learning from Disaster\n"
      ]
    },
    {
      "cell_type": "code",
      "metadata": {
        "colab_type": "code",
        "id": "X9uIpOS2zx7k",
        "colab": {}
      },
      "source": [
        "from __future__ import absolute_import, division, print_function, unicode_literals\n",
        "import tensorflow as tf\n",
        "tf.logging.set_verbosity(tf.logging.ERROR)\n",
        "\n",
        "import numpy as np\n",
        "import pandas as pd\n",
        "import matplotlib.pyplot as plt\n",
        "from sklearn.tree import DecisionTreeClassifier\n",
        "import re"
      ],
      "execution_count": 0,
      "outputs": []
    },
    {
      "cell_type": "markdown",
      "metadata": {
        "id": "iIHX_D0GPTOz",
        "colab_type": "text"
      },
      "source": [
        "## Feature enginering"
      ]
    },
    {
      "cell_type": "markdown",
      "metadata": {
        "id": "yLexT3_HGwFo",
        "colab_type": "text"
      },
      "source": [
        "Load test & training set data\n"
      ]
    },
    {
      "cell_type": "code",
      "metadata": {
        "id": "Ft594HHt9CcL",
        "colab_type": "code",
        "colab": {}
      },
      "source": [
        "url_test = \"https://raw.githubusercontent.com/mateuszklinowski/TitanicKaggleCompetition/develop/data/test.csv\"\n",
        "url_train = \"https://raw.githubusercontent.com/mateuszklinowski/TitanicKaggleCompetition/develop/data/train.csv\"\n",
        "\n",
        "test_df = pd.read_csv(url_test)\n",
        "train_df = pd.read_csv(url_train)\n",
        "train_df.head()"
      ],
      "execution_count": 0,
      "outputs": []
    },
    {
      "cell_type": "code",
      "metadata": {
        "id": "Xgj4XXWWk7c1",
        "colab_type": "code",
        "colab": {}
      },
      "source": [
        "#train_df.groupby('PassengerId').Age.hist(bins=1)\n",
        "train_df[\"Age\"].plot.hist(bins=50)"
      ],
      "execution_count": 0,
      "outputs": []
    },
    {
      "cell_type": "code",
      "metadata": {
        "id": "pOaOxAhpnMyg",
        "colab_type": "code",
        "colab": {}
      },
      "source": [
        "test_df[\"Age\"].plot.hist(bins=50)"
      ],
      "execution_count": 0,
      "outputs": []
    },
    {
      "cell_type": "markdown",
      "metadata": {
        "id": "YLxt8GWjPdPb",
        "colab_type": "text"
      },
      "source": [
        "Feature 1: **Pclass**\n"
      ]
    },
    {
      "cell_type": "code",
      "metadata": {
        "id": "Z6SK6yenPjer",
        "colab_type": "code",
        "colab": {}
      },
      "source": [
        "train_df[[\"Pclass\",\"Survived\"]].groupby([\"Pclass\"], as_index = False).mean()"
      ],
      "execution_count": 0,
      "outputs": []
    },
    {
      "cell_type": "markdown",
      "metadata": {
        "id": "IGo_DTJNPyPw",
        "colab_type": "text"
      },
      "source": [
        "Feature 2: **Sex**\n"
      ]
    },
    {
      "cell_type": "code",
      "metadata": {
        "id": "CtssuJQOPwB1",
        "colab_type": "code",
        "colab": {}
      },
      "source": [
        "train_df[[\"Sex\",\"Survived\"]].groupby([\"Sex\"], as_index = False).mean()\n"
      ],
      "execution_count": 0,
      "outputs": []
    },
    {
      "cell_type": "markdown",
      "metadata": {
        "id": "jFRS6tS6QEZd",
        "colab_type": "text"
      },
      "source": [
        "Feature 3: **Family Size**"
      ]
    },
    {
      "cell_type": "code",
      "metadata": {
        "id": "NGFMJ7t8QBYd",
        "colab_type": "code",
        "colab": {}
      },
      "source": [
        "for data in [train_df, test_df]:\n",
        "    data['family_size'] = data['SibSp'] + data['Parch'] + 1\n",
        "print( train_df[[\"family_size\",\"Survived\"]].groupby([\"family_size\"], as_index = False).mean() )"
      ],
      "execution_count": 0,
      "outputs": []
    },
    {
      "cell_type": "code",
      "metadata": {
        "id": "pDRKz579oJgo",
        "colab_type": "code",
        "colab": {}
      },
      "source": [
        "#If alone\n",
        "\n",
        "for data in [train_df, test_df]:\n",
        "  data['is_alone'] = 0\n",
        "  data.loc[data['family_size'] == 1, 'is_alone'] = 1\n",
        "  \n",
        "print (train_df[['is_alone', 'Survived']].groupby(['is_alone'], as_index=False).mean())"
      ],
      "execution_count": 0,
      "outputs": []
    },
    {
      "cell_type": "markdown",
      "metadata": {
        "id": "t368HJ6lTX0N",
        "colab_type": "text"
      },
      "source": [
        "Feature 4: **Embarked**\n"
      ]
    },
    {
      "cell_type": "code",
      "metadata": {
        "id": "HtxGWGUvTb_o",
        "colab_type": "code",
        "colab": {}
      },
      "source": [
        "for data in [train_df, test_df]:\n",
        "    data['Embarked'] = data['Embarked'].fillna('S')\n",
        "print(train_df[[\"Embarked\",\"Survived\"]].groupby([\"Embarked\"], as_index = False).mean())"
      ],
      "execution_count": 0,
      "outputs": []
    },
    {
      "cell_type": "markdown",
      "metadata": {
        "id": "nUvvRtlTozFZ",
        "colab_type": "text"
      },
      "source": [
        "Feature 5 : **Fare**"
      ]
    },
    {
      "cell_type": "code",
      "metadata": {
        "id": "raj2mA2Fo43m",
        "colab_type": "code",
        "colab": {}
      },
      "source": [
        "for data in [train_df, test_df]:\n",
        "    data['Fare'] = data['Fare'].fillna(data['Fare'].median())\n",
        "train_df['category_fare'] = pd.qcut(train_df['Fare'], 4)\n",
        "print( train_df[[\"category_fare\",\"Survived\"]].groupby([\"category_fare\"], as_index = False).mean() )"
      ],
      "execution_count": 0,
      "outputs": []
    },
    {
      "cell_type": "markdown",
      "metadata": {
        "id": "vOr7h39ppafw",
        "colab_type": "text"
      },
      "source": [
        "Feature 6: **Age**"
      ]
    },
    {
      "cell_type": "code",
      "metadata": {
        "id": "NfLkwnNbpcjh",
        "colab_type": "code",
        "colab": {}
      },
      "source": [
        "for data in [train_df, test_df]:\n",
        "    age_avg  = data['Age'].mean()\n",
        "    age_std  = data['Age'].std()\n",
        "    age_null = data['Age'].isnull().sum()\n",
        "\n",
        "    random_list = np.random.randint(age_avg - age_std, age_avg + age_std , size = age_null)\n",
        "    data['Age'][np.isnan(data['Age'])] = random_list\n",
        "    data['Age'] = data['Age'].astype(int)\n",
        "\n",
        "train_df['category_age'] = pd.cut(train_df['Age'], 5)\n",
        "print( train_df[[\"category_age\",\"Survived\"]].groupby([\"category_age\"], as_index = False).mean() )"
      ],
      "execution_count": 0,
      "outputs": []
    },
    {
      "cell_type": "markdown",
      "metadata": {
        "id": "OFi2gca2kOdJ",
        "colab_type": "text"
      },
      "source": [
        "Feature 7: **Name**"
      ]
    },
    {
      "cell_type": "code",
      "metadata": {
        "id": "HHtDJoMekNS2",
        "colab_type": "code",
        "colab": {}
      },
      "source": [
        "\n",
        "def get_title(name):\n",
        "    title_search = re.search(' ([A-Za-z]+)\\. ', name)\n",
        "    if title_search:\n",
        "        return title_search.group(1)\n",
        "    return \"\"\n",
        "\n",
        "for data in [train_df, test_df]:\n",
        "    data['title'] = data['Name'].apply(get_title)\n",
        "\n",
        "for data in [train_df, test_df]:\n",
        "    data['title'] = data['title'].replace(['Lady', 'Countess','Capt', 'Col','Don', 'Dr', 'Major', 'Rev', 'Sir', 'Jonkheer', 'Dona'],'Rare')\n",
        "    data['title'] = data['title'].replace('Mlle','Miss')\n",
        "    data['title'] = data['title'].replace('Ms','Miss')\n",
        "    data['title'] = data['title'].replace('Mme','Mrs')\n",
        "    \n",
        "print(pd.crosstab(train_df['title'], train_df['Pclass']))\n",
        "print(\"----------------------\")\n",
        "print(train_df[['title','Survived']].groupby(['title'], as_index = False).mean())"
      ],
      "execution_count": 0,
      "outputs": []
    },
    {
      "cell_type": "code",
      "metadata": {
        "id": "URc94oB1rciY",
        "colab_type": "code",
        "colab": {}
      },
      "source": [
        "train_df.head(1)"
      ],
      "execution_count": 0,
      "outputs": []
    },
    {
      "cell_type": "markdown",
      "metadata": {
        "id": "Q80uatO8-kPz",
        "colab_type": "text"
      },
      "source": [
        "## Helper functions"
      ]
    },
    {
      "cell_type": "code",
      "metadata": {
        "id": "WcDVRUeGiZpy",
        "colab_type": "code",
        "colab": {}
      },
      "source": [
        "def map_data(dataFrame):\n",
        "  copy = dataFrame.copy()\n",
        "  \n",
        "  for data in [copy]:\n",
        "    \n",
        "    #Map Data\n",
        "    sex_map = { 'female':0 , 'male':1 }\n",
        "    data['Sex'] = data['Sex'].map(sex_map)\n",
        "    \n",
        "    #Mapping Title\n",
        "    title_map = {'Mr':1, 'Miss':2, 'Mrs':3, 'Master':4, 'Rare':5}\n",
        "    data['title'] = data['title'].map(title_map)\n",
        "    data['title'] = data['title'].fillna(0)\n",
        "    \n",
        "    #Mapping Embarked\n",
        "    embark_map = {'S':0, 'C':1, 'Q':2}\n",
        "    data['Embarked'] = data['Embarked'].map(embark_map)\n",
        "    \n",
        "    #Mapping Fare\n",
        "    data.loc[ data['Fare'] <= 7.91, 'Fare']                            = 0\n",
        "    data.loc[(data['Fare'] > 7.91) & (data['Fare'] <= 14.454), 'Fare'] = 1\n",
        "    data.loc[(data['Fare'] > 14.454) & (data['Fare'] <= 31), 'Fare']   = 2\n",
        "    data.loc[ data['Fare'] > 31, 'Fare']                               = 3\n",
        "    data['Fare'] = data['Fare'].astype(int)\n",
        "\n",
        "    #Mapping Age\n",
        "    data.loc[ data['Age'] <= 16, 'Age']                       = 0\n",
        "    data.loc[(data['Age'] > 16) & (data['Age'] <= 32), 'Age'] = 1\n",
        "    data.loc[(data['Age'] > 32) & (data['Age'] <= 48), 'Age'] = 2\n",
        "    data.loc[(data['Age'] > 48) & (data['Age'] <= 64), 'Age'] = 3\n",
        "    data.loc[ data['Age'] > 64, 'Age']                        = 4\n",
        "    \n",
        "  drop_elements = [\"Name\", \"Ticket\", \"Cabin\", \"SibSp\", \"Parch\"]\n",
        "  copy = copy.drop(drop_elements,axis=1)\n",
        "  return copy\n",
        "\n",
        "train_df_mapped = map_data(train_df).drop(['category_fare','category_age'], axis=1)\n",
        "test_df_mapped = map_data(test_df)\n",
        "\n",
        "train_df_mapped.head(5)"
      ],
      "execution_count": 0,
      "outputs": []
    },
    {
      "cell_type": "markdown",
      "metadata": {
        "id": "QYTklkJcC9Pl",
        "colab_type": "text"
      },
      "source": [
        "## Data processing"
      ]
    },
    {
      "cell_type": "code",
      "metadata": {
        "id": "9uQlR0T8CQpt",
        "colab_type": "code",
        "colab": {}
      },
      "source": [
        "train_df_mapped = map_data(train_df)\n",
        "test_df_mapped = map_data(test_df)"
      ],
      "execution_count": 0,
      "outputs": []
    },
    {
      "cell_type": "markdown",
      "metadata": {
        "id": "E4RcB4vSC7tN",
        "colab_type": "text"
      },
      "source": [
        "Convert to np arrays"
      ]
    },
    {
      "cell_type": "code",
      "metadata": {
        "id": "b4ik2HsiDJQN",
        "colab_type": "code",
        "colab": {}
      },
      "source": [
        "train_set = train_df_mapped.values\n",
        "test_set = test_df_mapped.values\n",
        "\n",
        "\n",
        "X = train_set[:,2:]\n",
        "y = train_set[:,1]\n",
        "\n",
        "X_test = train_set[700:,2:]\n",
        "y_test = train_set[700:,1]\n",
        "\n",
        "\n",
        "X_submit = test_set[:,1:]"
      ],
      "execution_count": 0,
      "outputs": []
    },
    {
      "cell_type": "code",
      "metadata": {
        "id": "0MtV96kU7ONW",
        "colab_type": "code",
        "colab": {}
      },
      "source": [
        "histogram_intersection = lambda a, b: np.minimum(a, b).sum().round(decimals=1)\n",
        "train_df_mapped.corr(method=histogram_intersection)"
      ],
      "execution_count": 0,
      "outputs": []
    },
    {
      "cell_type": "markdown",
      "metadata": {
        "id": "B2CikIpHECJG",
        "colab_type": "text"
      },
      "source": [
        "## Setting up NN with tensor flow"
      ]
    },
    {
      "cell_type": "code",
      "metadata": {
        "colab_type": "code",
        "id": "pRllo2HLfXiu",
        "colab": {}
      },
      "source": [
        "regularizer = tf.contrib.layers.l2_regularizer(scale=0.0006)\n",
        "\n",
        "l0 = tf.keras.layers.Dense(units=14, input_shape=[8], activation=tf.nn.relu, kernel_regularizer=regularizer)\n",
        "l1 = tf.keras.layers.Dense(units=4, activation=tf.nn.relu, kernel_regularizer=regularizer)\n",
        "l2 = tf.keras.layers.Dense(units=1, activation=tf.nn.sigmoid, kernel_regularizer=regularizer)\n"
      ],
      "execution_count": 0,
      "outputs": []
    },
    {
      "cell_type": "markdown",
      "metadata": {
        "id": "XjDhTjOwEFVb",
        "colab_type": "text"
      },
      "source": [
        "Training the model"
      ]
    },
    {
      "cell_type": "code",
      "metadata": {
        "colab_type": "code",
        "id": "cSp-GpLSuMRq",
        "colab": {}
      },
      "source": [
        "model = tf.keras.Sequential([l0, l1,l2])\n",
        "#model.compile(loss='mean_squared_error', optimizer=tf.keras.optimizers.SGD(lr=0.01, decay=1e-6, momentum=0.9, nesterov=True), metrics=['accuracy'])\n",
        "model.compile(loss='mean_squared_error', optimizer=tf.keras.optimizers.Adam(lr=0.01, decay=1e-4), metrics=['accuracy'])\n",
        "history = model.fit(X, y, epochs=2000, verbose=True)\n",
        "print(\"Finished training the model\")"
      ],
      "execution_count": 0,
      "outputs": []
    },
    {
      "cell_type": "markdown",
      "metadata": {
        "id": "MzzHWQA9EHT0",
        "colab_type": "text"
      },
      "source": [
        "Visualizing model learning curve"
      ]
    },
    {
      "cell_type": "code",
      "metadata": {
        "colab_type": "code",
        "id": "IeK6BzfbdO6_",
        "colab": {}
      },
      "source": [
        "plt.xlabel('Epoch Number')\n",
        "plt.ylabel(\"Loss Magnitude\")\n",
        "plt.plot(history.history['loss'])"
      ],
      "execution_count": 0,
      "outputs": []
    },
    {
      "cell_type": "code",
      "metadata": {
        "id": "RDveq1VHMIUi",
        "colab_type": "code",
        "colab": {}
      },
      "source": [
        "plot_cutted= history.history['loss'][20:]\n",
        "plt.xlabel('Epoch Number')\n",
        "plt.ylabel(\"Loss Magnitude\")\n",
        "plt.plot(plot_cutted)"
      ],
      "execution_count": 0,
      "outputs": []
    },
    {
      "cell_type": "code",
      "metadata": {
        "id": "jqYZZMV2Aoad",
        "colab_type": "code",
        "colab": {}
      },
      "source": [
        "plot_mean = np.array_split(history.history['loss'], 100)\n",
        "\n",
        "plot_mean = list(map(lambda arr: arr.mean(), plot_mean))\n",
        "\n",
        "plt.xlabel('')\n",
        "plt.ylabel(\"Loss Magnitude Mean\")\n",
        "plt.plot(plot_mean[5:])"
      ],
      "execution_count": 0,
      "outputs": []
    },
    {
      "cell_type": "code",
      "metadata": {
        "id": "QQ3o_rsa3Zzr",
        "colab_type": "code",
        "colab": {}
      },
      "source": [
        "#Running our classifier\n",
        "#decision_tree = DecisionTreeClassifier()\n",
        "#decision_tree.fit(X, y)\n",
        "#Y_pred = decision_tree.predict(X_test)\n",
        "#accuracy = round(decision_tree.score(X, y) * 100, 2)\n",
        "#print(\"Model Accuracy: \",accuracy)\n"
      ],
      "execution_count": 0,
      "outputs": []
    },
    {
      "cell_type": "code",
      "metadata": {
        "id": "NwWsObAd_43L",
        "colab_type": "code",
        "colab": {}
      },
      "source": [
        "#pred = decision_tree.predict(X_submit)"
      ],
      "execution_count": 0,
      "outputs": []
    },
    {
      "cell_type": "code",
      "metadata": {
        "id": "Y7iJtto_8GiO",
        "colab_type": "code",
        "colab": {}
      },
      "source": [
        "def calculate_acc(arg):\n",
        "  arg = np.array(arg).reshape(1,8)\n",
        "  guess = 1 if model.predict(arg) > 0.5 else 0\n",
        "  return guess\n",
        "  \n",
        "pred = list(map(calculate_acc, X))\n",
        "pred = np.equal(pred, y)\n",
        "pred = list(map(lambda val: 1 if val else 0, pred))\n",
        "np.mean(pred) * 100"
      ],
      "execution_count": 0,
      "outputs": []
    },
    {
      "cell_type": "markdown",
      "metadata": {
        "id": "r9Bu9pMli77H",
        "colab_type": "text"
      },
      "source": [
        "## Calculating model accuracy and creating predictions"
      ]
    },
    {
      "cell_type": "code",
      "metadata": {
        "colab_type": "code",
        "id": "oxNzL4lS2Gui",
        "colab": {}
      },
      "source": [
        "def calculate_acc(arg):\n",
        "  arg = np.array(arg).reshape(1,8)\n",
        "  guess = 1 if model.predict(arg) > 0.5 else 0\n",
        "  return guess\n",
        "  \n",
        "pred = list(map(calculate_acc, X_test))\n",
        "pred = np.equal(pred, y_test)\n",
        "pred = list(map(lambda val: 1 if val else 0, pred))\n",
        "np.mean(pred) * 100"
      ],
      "execution_count": 0,
      "outputs": []
    },
    {
      "cell_type": "code",
      "metadata": {
        "colab_type": "code",
        "id": "kmIkVdkbnZJI",
        "colab": {}
      },
      "source": [
        "pred = list(map(calculate_acc, X_submit))\n"
      ],
      "execution_count": 0,
      "outputs": []
    },
    {
      "cell_type": "code",
      "metadata": {
        "colab_type": "code",
        "id": "Y2zTA-rDS5Xk",
        "colab": {}
      },
      "source": [
        "test_df[\"Survived\"] = pred\n",
        "\n",
        "\n",
        "submit_df_2 = test_df[['PassengerId','Survived']]\n",
        "\n",
        "submit_df_2\n",
        "\n",
        "submit_df_2.to_csv('submit.csv', index=False)\n"
      ],
      "execution_count": 0,
      "outputs": []
    },
    {
      "cell_type": "markdown",
      "metadata": {
        "id": "Gn7_Eu-vibj-",
        "colab_type": "text"
      },
      "source": [
        ""
      ]
    }
  ]
}